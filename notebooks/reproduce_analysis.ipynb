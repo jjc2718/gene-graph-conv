{
 "cells": [
  {
   "cell_type": "code",
   "execution_count": 13,
   "metadata": {},
   "outputs": [],
   "source": [
    "import os\n",
    "import pickle\n",
    "import pandas as pd\n",
    "import matplotlib.pyplot as plt\n",
    "import seaborn as sns"
   ]
  },
  {
   "cell_type": "code",
   "execution_count": 30,
   "metadata": {},
   "outputs": [],
   "source": [
    "def read_results(filename, new_name=None):\n",
    "    with open(filename, 'rb') as f:\n",
    "        results = pickle.load(f)\n",
    "        results = results.dropna(subset=['auc'])\n",
    "    if new_name:\n",
    "        results.graph = new_name\n",
    "    return results\n",
    "\n",
    "def add_missing_nodes(graph_df, all_nodes_df, graph_name):\n",
    "    missing = set(all_nodes_df.gene).difference(graph_df.gene)\n",
    "    diff = all_nodes_df.loc[all_nodes_df.gene.isin(missing)].copy()\n",
    "    diff.auc = 0.5\n",
    "    diff.graph = graph_name\n",
    "    return pd.concat([graph_df, diff], ignore_index=True) \n",
    "\n",
    "def calculate_mean(baseline, graph):\n",
    "    first_degree = graph.groupby(['gene']).auc.agg(['mean', 'std'])\n",
    "    full = baseline.groupby(['gene']).auc.agg(['mean', 'std'])\n",
    "    meandiff = first_degree.sub(full).sort_values('mean', ascending=False)\n",
    "    return meandiff\n",
    "\n",
    "def plot_hist(graphs, labels, xlimits=(-.4, .3), bins=100, title=None):        \n",
    "    fig, ax = plt.subplots()\n",
    "    for idx, expt in enumerate(graphs):\n",
    "        n1, bins1, patches1 = ax.hist(expt['mean'], range=xlimits, bins=bins, label=labels[idx], \n",
    "                                      density=0, alpha=0.6, histtype='step')\n",
    "    if title is None:\n",
    "        title = \"First Degree Neighbors vs Full Gene Set\"\n",
    "    \n",
    "    plt.axvline(x=0, color='black')\n",
    "    plt.title(title)\n",
    "    plt.ylabel(\"Count\")\n",
    "    plt.xlabel(\"% AUC Improvement\")\n",
    "    plt.legend(loc='best')\n",
    "    plt.show()   "
   ]
  },
  {
   "cell_type": "code",
   "execution_count": 31,
   "metadata": {},
   "outputs": [],
   "source": [
    "results_dir = '../experiments/results'\n",
    "all_nodes = read_results(os.path.join(results_dir, 'all_nodes_seed0.pkl'))\n",
    "string_nodes = read_results(os.path.join(results_dir, 'stringdb_seed0.pkl'))\n",
    "r_100_nodes = read_results(os.path.join(results_dir, 'r_100_seed0.pkl'))\n",
    "r_500_nodes = read_results(os.path.join(results_dir, 'r_500_seed0.pkl'))\n",
    "r_2000_nodes = read_results(os.path.join(results_dir, 'r_2000_seed0.pkl'))"
   ]
  },
  {
   "cell_type": "code",
   "execution_count": 32,
   "metadata": {},
   "outputs": [],
   "source": [
    "all_string_diff = calculate_mean(all_nodes, string_nodes)\n",
    "all_r100_diff = calculate_mean(all_nodes, r_100_nodes)\n",
    "all_r500_diff = calculate_mean(all_nodes, r_500_nodes)\n",
    "all_r2000_diff = calculate_mean(all_nodes, r_2000_nodes)"
   ]
  },
  {
   "cell_type": "code",
   "execution_count": 42,
   "metadata": {},
   "outputs": [
    {
     "data": {
      "image/png": "[encoded data removed]",
      "text/plain": [
       "<Figure size 432x288 with 1 Axes>"
      ]
     },
     "metadata": {},
     "output_type": "display_data"
    }
   ],
   "source": [
    "sns.set(style='white')\n",
    "plot_hist(graphs=[all_string_diff, all_r100_diff, all_r500_diff, all_r2000_diff],\n",
    "          labels=['StringDB', 'R-100', 'R-500', 'R-2000'],\n",
    "          xlimits=(-0.2, 0.2),\n",
    "          bins=100)"
   ]
  },
  {
   "cell_type": "code",
   "execution_count": null,
   "metadata": {},
   "outputs": [],
   "source": []
  }
 ],
 "metadata": {
  "kernelspec": {
   "display_name": "Python [conda env:gene-graph-conv]",
   "language": "python",
   "name": "conda-env-gene-graph-conv-py"
  },
  "language_info": {
   "codemirror_mode": {
    "name": "ipython",
    "version": 3
   },
   "file_extension": ".py",
   "mimetype": "text/x-python",
   "name": "python",
   "nbconvert_exporter": "python",
   "pygments_lexer": "ipython3",
   "version": "3.7.0"
  }
 },
 "nbformat": 4,
 "nbformat_minor": 2
}
